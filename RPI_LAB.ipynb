{
  "nbformat": 4,
  "nbformat_minor": 0,
  "metadata": {
    "colab": {
      "name": "RPI LAB.ipynb",
      "provenance": [],
      "authorship_tag": "ABX9TyNKAk9AOAGwKgQHlLs16dDm",
      "include_colab_link": true
    },
    "kernelspec": {
      "name": "python3",
      "display_name": "Python 3"
    },
    "language_info": {
      "name": "python"
    }
  },
  "cells": [
    {
      "cell_type": "markdown",
      "metadata": {
        "id": "view-in-github",
        "colab_type": "text"
      },
      "source": [
        "<a href=\"https://colab.research.google.com/github/Shreya1295/rpi/blob/main/RPI_LAB.ipynb\" target=\"_parent\"><img src=\"https://colab.research.google.com/assets/colab-badge.svg\" alt=\"Open In Colab\"/></a>"
      ]
    },
    {
      "cell_type": "markdown",
      "source": [
        "#LED BLINKING"
      ],
      "metadata": {
        "id": "ZUjqRe5GRNRe"
      }
    },
    {
      "cell_type": "code",
      "execution_count": null,
      "metadata": {
        "id": "WJbG-sIBQvNT"
      },
      "outputs": [],
      "source": [
        "import RPi.GPIO as GPIO \n",
        "from time import sleep\n",
        "\n",
        "GPIO.setmode(GPIO.BOARD)\n",
        "GPIO.setup(8, GPIO.OUT, initial=GPIO.LOW)\n",
        "while True:\n",
        "  GPIO.output(8, GPIO.HIGH) # Turn on\n",
        "  sleep(1) # Sleep for 1 second \n",
        "  GPIO.output(8, GPIO.LOW) # Turn off \n",
        "  sleep(1)"
      ]
    },
    {
      "cell_type": "markdown",
      "source": [
        "# EX6 Programming on switch"
      ],
      "metadata": {
        "id": "8PrjLUcZRRsv"
      }
    },
    {
      "cell_type": "code",
      "source": [
        "# import modules\n",
        "import RPi.GPIO as GPIO \n",
        "import time\n",
        "\n",
        "# setup pins \n",
        "GPIO.setmode(GPIO.BOARD) \n",
        "GPIO.setup(3, GPIO.OUT) \n",
        "GPIO.setup(5, GPIO.IN)\n",
        "\n",
        "while True: \n",
        "  time.sleep(1)\n",
        "# read input pin 5\n",
        "  if GPIO.input(5) == GPIO.HIGH:\n",
        "    print(\"Pin 5 is on\")\n",
        "    GPIO.output(3, GPIO.HIGH) \n",
        "  else: \n",
        "    print(\"Pin 5 is off\")\n",
        "    GPIO.output(3, GPIO.LOW"
      ],
      "metadata": {
        "id": "2u7YsQM_RRGP"
      },
      "execution_count": null,
      "outputs": []
    },
    {
      "cell_type": "markdown",
      "source": [
        "# ex7 interrupts"
      ],
      "metadata": {
        "id": "a9-hRFNaRdF5"
      }
    },
    {
      "cell_type": "code",
      "source": [
        "# import modules\n",
        "import RPi.GPIO as GPIO \n",
        "import time \n",
        "\n",
        "# setup pins\n",
        "GPIO.setmode(GPIO.BOARD)\n",
        "GPIO.setup(3, GPIO.IN, pull_up_down=GPIO.PUD_DOWN, initial=0) \n",
        "GPIO.setup(11, GPIO.IN, pull_up_down=GPIO.PUD_DOWN, initial=1)\n",
        "\n",
        "GPIO.setup(5, GPIO.OUT) \n",
        "GPIO.setup(7, GPIO.OUT)\n",
        "\n",
        "def pos_edge(): \n",
        "  print('Rising Edge - Low 2 High - Interrupt Service Routine invoked')\n",
        "\n",
        "def neg_edge():\n",
        "  print('Falling Edge - High 2 Low - Interrupt Service Routine invoked')\n",
        "\n",
        "while True:\n",
        "  if not GPIO.input(3): \n",
        "    time.sleep(0.1) \n",
        "    if GPIO.input(3):\n",
        "      pos_edge()\n",
        "      GPIO.output(5, GPIO.HIGH) \n",
        "      time.sleep(2) \n",
        "      GPIO.output(5, GPIO.LOW)\n",
        "  else: \n",
        "      pass \n",
        "  if GPIO.input(11): \n",
        "    time.sleep(0.1)\n",
        "    if not GPIO.input(11):\n",
        "      neg_edge()\n",
        "      GPIO.output(7, GPIO.HIGH) \n",
        "      time.sleep(2)\n",
        "      GPIO.output(7, GPIO.LOW) \n",
        "  else:\n",
        "    pass \n",
        "  time.sleep(0.01)"
      ],
      "metadata": {
        "id": "36ORj7zvRiH-"
      },
      "execution_count": null,
      "outputs": []
    },
    {
      "cell_type": "markdown",
      "source": [
        "# high power dc device"
      ],
      "metadata": {
        "id": "uu7pwGeFS0hY"
      }
    },
    {
      "cell_type": "code",
      "source": [
        "#H-bridge:\n",
        "import RPi.GPIO as GPIO \n",
        "import time\n",
        "\n",
        "enable_pin = 18 \n",
        "in1_pin = 23 \n",
        "in2_pin = 24\n",
        "\n",
        "GPIO.setmode(GPIO.BCM) \n",
        "GPIO.setup(enable_pin, GPIO.OUT) \n",
        "GPIO.setup(in1_pin, GPIO.OUT) \n",
        "GPIO.setup(in2_pin, GPIO.OUT) \n",
        "pwm = GPIO.PWM(enable_pin, 500) \n",
        "pwm.start(0)\n",
        "\n",
        "def clockwise(): \n",
        "    GPIO.output(in1_pin, True) \n",
        "    GPIO.output(in2_pin, False)\n",
        "def counter_clockwise(): \n",
        "    GPIO.output(in1_pin, False) \n",
        "    GPIO.output(in2_pin, True) \n",
        "\n",
        "while True: \n",
        "    cmd = raw_input(“Command, f/r 0..9, E.g. f5 :”) \n",
        "    direction = cmd[0]\n",
        "    if direction == “f”:\n",
        "        clockwise()\n",
        "    else:\n",
        "        counter_clockwise()\n",
        "        speed = int(cmd[1]) * 10 \n",
        "        pwm.ChangeDutyCycle(speed)\n",
        "\n",
        "#Relay:\n",
        "\n",
        "import RPi.GPIO as GPIO\n",
        "from time import sleep \n",
        "\n",
        "GPIO.setmode(GPIO.BOARD)\n",
        "GPIO.setup(8, GPIO.OUT, initial=GPIO.LOW)\n",
        "\n",
        "while True: \n",
        "    GPIO.output(8, GPIO.HIGH) # Turn on \n",
        "    sleep(1) # Sleep for 1 second \n",
        "    GPIO.output(8, GPIO.LOW) # Turn off\n",
        "    sleep(1)"
      ],
      "metadata": {
        "id": "0kW6CBf2TCk3"
      },
      "execution_count": null,
      "outputs": []
    },
    {
      "cell_type": "markdown",
      "source": [
        "# stepper motor\n"
      ],
      "metadata": {
        "id": "31TIKNtST2UW"
      }
    },
    {
      "cell_type": "code",
      "source": [
        "import RPi.GPIO as GPIO\n",
        "import time\n",
        "\n",
        "GPIO.setmode(GPIO.BOARD)\n",
        "coil_A_1_pin = 22\n",
        "coil_A_2_pin = 24\n",
        "coil_B_1_pin = 26\n",
        "coil_B_2_pin = 28\n",
        "\n",
        "GPIO.setup(coil_A_1_pin, GPIO.OUT)\n",
        "GPIO.setup(coil_A_2_pin, GPIO.OUT)\n",
        "GPIO.setup(coil_B_1_pin, GPIO.OUT)\n",
        "GPIO.setup(coil_B_2_pin, GPIO.OUT)\n",
        "\n",
        "forward_seq = ['1010', '0110', '0101', '1001'] \n",
        "reverse_seq = list(forward_seq) # to copy the list\n",
        "\n",
        "reverse_seq.reverse()\n",
        "def forward(delay, steps): \n",
        "    for i in range(steps):\n",
        "        for step in forward_seq:\n",
        "            print(step)\n",
        "            set_step(step)\n",
        "            time.sleep(delay) \n",
        "def backwards(delay, steps):\n",
        "    for i in range(steps):\n",
        "        for step in reverse_seq:\n",
        "            print(step)\n",
        "            set_step(step)\n",
        "            time.sleep(delay) \n",
        "\n",
        "def set_step(step):\n",
        "    GPIO.output(coil_A_1_pin, step[0] == '1')\n",
        "    GPIO.output(coil_A_2_pin, step[1] == '1')\n",
        "    GPIO.output(coil_B_1_pin, step[2] == '1')\n",
        "    GPIO.output(coil_B_2_pin, step[3] == '1')\n",
        "\n",
        "A = True\n",
        "while (A ==True): \n",
        "    choice = input(\"Enter your choice - Forward [F/f] - Reverse [R/r]- Stop [S/s]\") #print(choice) \n",
        "    if(choice == 'F' or choice == 'f'):\n",
        "        print(\"Forward Motion\") \n",
        "        set_step('0000') \n",
        "        forward(1,2) \n",
        "        set_step('0000') \n",
        "        time.sleep(5)\n",
        "    elif (choice == 'R' or choice == 'r'):\n",
        "         print(\"Reverse Motion\") \n",
        "         set_step('0000')\n",
        "         backwards(1,2)\n",
        "         set_step('0000')\n",
        "         time.sleep(5)\n",
        "      elif (choice == 'S' or 's'):\n",
        "          A = False \n",
        "          print(\"HALT\") \n",
        "          time.sleep(5) \n",
        "          break"
      ],
      "metadata": {
        "id": "sb5eErX3T6bk"
      },
      "execution_count": null,
      "outputs": []
    },
    {
      "cell_type": "markdown",
      "source": [
        "# matrix display srm ist"
      ],
      "metadata": {
        "id": "WrIX9roFVjM_"
      }
    },
    {
      "cell_type": "code",
      "source": [
        "from sense_hat import SenseHat\n",
        "import time\n",
        "\n",
        "s = SenseHat() \n",
        "s.low_light = True\n",
        "\n",
        "green = (0, 255, 0) \n",
        "yellow = (255, 255, 0) \n",
        "blue = (0, 0, 255)\n",
        "red = (255, 0, 0)\n",
        "white = (255,255,255) \n",
        "nothing = (0,0,0)\n",
        "pink = (255,105, 180)\n",
        "\n",
        "def letter_s(): \n",
        "  G = green\n",
        "  Y = yellow\n",
        "  B = blue\n",
        "  O = nothing\n",
        "  letter = [\n",
        "  O, O, B, B, B, B, O, O, \n",
        "  O, B, O, O, O, O, B, O, \n",
        "  O, B, O, O, O, O, O, O, \n",
        "  O, B, B, B, B, B, B, O, \n",
        "  O, O, O, O, O, O, B, O, \n",
        "  O, O, O, O, O, O, B, O, \n",
        "  O, B, O, O, O, O, B, O, \n",
        "  O, O, B, B, B, B, O, O, ]\n",
        "  return letter\n",
        "\n",
        "def letter_r():\n",
        "   G = green\n",
        "   Y = yellow\n",
        "   B = blue\n",
        "   O = nothing\n",
        "   letter = [\n",
        "    O, O, B, B, B, B, O, O, \n",
        "    O, B, O, O, O, O, B, O, \n",
        "    O, B, O, O, O, O, B, O, \n",
        "    O, B, B, B, B, B, B, O, \n",
        "    O, B, B, O, O, O, O, O, \n",
        "    O, B, O, B, O, O, O, O, \n",
        "    O, B, O, O, B, O, O, O, \n",
        "    O, B, O, O, O, B, O, O, ]\n",
        "    return letter\n",
        "\n",
        "def letter_m(): \n",
        "  G = green\n",
        "  Y = yellow\n",
        "  B = blue\n",
        "  O = nothing\n",
        "  letter = [\n",
        "  O, O, O, O, O, O, O, O, \n",
        "  O, B, O, O, O, O, B, O, \n",
        "  O, B, B, O, O, B, B, O, \n",
        "  O, B, O, B, B, O, B, O, \n",
        "  O, B, O, O, O, O, B, O, \n",
        "  O, B, O, O, O, O, B, O, \n",
        "  O, B, O, O, O, O, B, O,\n",
        "  O, B, O, O, O, O, B, O,]\n",
        "  return letter\n",
        "\n",
        "images = [letter_s, letter_r, letter_m] \n",
        "count = 0\n",
        "\n",
        "while True:\n",
        "  s.set_pixels(images[count % len(images)]()) \n",
        "  time.sleep(.75)\n",
        "  count += 1\n"
      ],
      "metadata": {
        "id": "1I2t3e7MVs3N"
      },
      "execution_count": null,
      "outputs": []
    },
    {
      "cell_type": "markdown",
      "source": [
        "# web server bottle"
      ],
      "metadata": {
        "id": "tTUbQI4eWqF5"
      }
    },
    {
      "cell_type": "code",
      "source": [
        "from bottle import route, run, template \n",
        "tem=input(\"Enter temparature value: \") \n",
        "@route('/')\n",
        "\n",
        "def getsens():\n",
        "    sensor_log = [ {'sensor': 'temp', 'value': tem}, \n",
        "                  {'sensor': 'humitity', 'value': 20}, \n",
        "                  {'sensor': 'windspeed', 'value': 90},\n",
        "                  {'sensor': 'rain', 'price':0} ]\n",
        "# return dict(data=sensor_log)\n",
        "    return template('<b>Hello, the temperature today is {{tem}}!, Humidity is 20, Windspeed is 90, and Rain is 0</b>', \n",
        "                    tem=tem) run(host='localhost', port=7000, debug=True)\n"
      ],
      "metadata": {
        "id": "Breh6YLsWst3"
      },
      "execution_count": null,
      "outputs": []
    }
  ]
}